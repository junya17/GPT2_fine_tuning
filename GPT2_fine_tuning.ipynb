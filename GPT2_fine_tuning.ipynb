{
  "nbformat": 4,
  "nbformat_minor": 0,
  "metadata": {
    "colab": {
      "provenance": [],
      "gpuType": "T4"
    },
    "kernelspec": {
      "name": "python3",
      "display_name": "Python 3"
    },
    "language_info": {
      "name": "python"
    },
    "accelerator": "GPU"
  },
  "cells": [
    {
      "cell_type": "code",
      "execution_count": 25,
      "metadata": {
        "id": "0vF1UffIM0I2"
      },
      "outputs": [],
      "source": [
        "import torch\n",
        "import matplotlib.pyplot as plt\n",
        "from torch.utils.data import Dataset, DataLoader\n",
        "from transformers import GPT2LMHeadModel, GPT2Tokenizer, AdamW, get_linear_schedule_with_warmup"
      ]
    },
    {
      "cell_type": "code",
      "source": [
        "# 1. データセットのクラス定義（惑星に関するテキスト）\n",
        "class PlanetsDataset(Dataset):\n",
        "    def __init__(self, texts, tokenizer, max_length):\n",
        "        self.tokenizer = tokenizer\n",
        "        self.input_ids = []\n",
        "        self.attn_masks = []\n",
        "\n",
        "        for text in texts:\n",
        "            encodings_dict = tokenizer('<|startoftext|>'+ text + '<|endoftext|>',\n",
        "                                       truncation=True,\n",
        "                                       max_length=max_length,\n",
        "                                       padding=\"max_length\")\n",
        "            self.input_ids.append(torch.tensor(encodings_dict['input_ids']))\n",
        "            self.attn_masks.append(torch.tensor(encodings_dict['attention_mask']))\n",
        "\n",
        "    def __len__(self):\n",
        "        return len(self.input_ids)\n",
        "\n",
        "    def __getitem__(self, idx):\n",
        "        return self.input_ids[idx], self.attn_masks[idx]\n"
      ],
      "metadata": {
        "id": "nAzV6frjN7ej"
      },
      "execution_count": 3,
      "outputs": []
    },
    {
      "cell_type": "code",
      "source": [
        "# 2. トークナイザーとモデルのロード\n",
        "tokenizer = GPT2Tokenizer.from_pretrained('gpt2')\n",
        "model = GPT2LMHeadModel.from_pretrained('gpt2')"
      ],
      "metadata": {
        "colab": {
          "base_uri": "https://localhost:8080/"
        },
        "id": "Q5uSBJAqONys",
        "outputId": "a01907fb-5fc6-4b8d-fbc5-fe89c8d31654"
      },
      "execution_count": 31,
      "outputs": [
        {
          "output_type": "stream",
          "name": "stderr",
          "text": [
            "/usr/local/lib/python3.10/dist-packages/huggingface_hub/utils/_token.py:72: UserWarning: \n",
            "The secret `HF_TOKEN` does not exist in your Colab secrets.\n",
            "To authenticate with the Hugging Face Hub, create a token in your settings tab (https://huggingface.co/settings/tokens), set it as secret in your Google Colab and restart your session.\n",
            "You will be able to reuse this secret in all of your notebooks.\n",
            "Please note that authentication is recommended but still optional to access public models or datasets.\n",
            "  warnings.warn(\n"
          ]
        }
      ]
    },
    {
      "cell_type": "code",
      "source": [
        "# ここで惑星に関するテキストデータをロード\n",
        "planets =[\n",
        "    \"Mercury is the planet closest to the Sun in our solar system. It has extremely high temperatures, and its surface is covered with craters.\",\n",
        "    \"Venus has a size and density similar to Earth, and due to the greenhouse effect, it has very high surface temperatures.\",\n",
        "    \"Earth is the only planet that supports life, with abundant water and an atmosphere rich in oxygen.\",\n",
        "    \"Mars is characterized by its red soil and there's a possibility that water existed there in the past.\",\n",
        "    \"Jupiter is the largest planet in the solar system and has a strong magnetic field and many moons.\",\n",
        "    \"Saturn is a gas giant known for its shining rings.\",\n",
        "    \"Uranus is an ice giant with a blue-green color and has an extremely cold climate.\",\n",
        "    \"Neptune is the outermost planet in the solar system and is a world with strong winds.\"\n",
        "]\n",
        "\n",
        "tokenizer.pad_token = tokenizer.eos_token\n",
        "\n",
        "dataset = PlanetsDataset(planets, tokenizer, max_length=512)"
      ],
      "metadata": {
        "id": "KpGMX3KnOOQO"
      },
      "execution_count": 33,
      "outputs": []
    },
    {
      "cell_type": "code",
      "source": [
        "from sklearn.model_selection import train_test_split\n",
        "\n",
        "\n",
        "# データセットを訓練セットと検証セットに\n",
        "train_texts, val_texts = train_test_split(planets, test_size=0.2, random_state=42)\n",
        "\n",
        "# 訓練と検証のためのデータセットを作成する\n",
        "train_dataset = PlanetsDataset(train_texts, tokenizer, max_length=512)\n",
        "val_dataset = PlanetsDataset(val_texts, tokenizer, max_length=512)\n",
        "\n",
        "# トレーニングと検証のためのDataLoadersの作成\n",
        "train_dataloader = DataLoader(train_dataset, batch_size=2, shuffle=True)\n",
        "val_dataloader = DataLoader(val_dataset, batch_size=2, shuffle=False)\n"
      ],
      "metadata": {
        "id": "Li_UyEwZkHWk"
      },
      "execution_count": 35,
      "outputs": []
    },
    {
      "cell_type": "code",
      "source": [
        "# 3. データローダーの設定\n",
        "train_dataloader = DataLoader(dataset, batch_size=2, shuffle=True)"
      ],
      "metadata": {
        "id": "BXfc9rP8OSRC"
      },
      "execution_count": 36,
      "outputs": []
    },
    {
      "cell_type": "code",
      "source": [
        "# 4. トレーニングの設定\n",
        "# GPUが使用可能か確認し、使用可能な場合はモデルをGPUに移動\n",
        "device = \"cuda\" if torch.cuda.is_available() else \"gpu\"\n",
        "model = model.to(device)\n",
        "\n",
        "optimizer = AdamW(model.parameters(), lr=1e-4)\n",
        "scheduler = get_linear_schedule_with_warmup(optimizer, num_warmup_steps=500, num_training_steps=-1)\n"
      ],
      "metadata": {
        "colab": {
          "base_uri": "https://localhost:8080/"
        },
        "id": "WuVM0k2HOqXt",
        "outputId": "591b943c-27cf-491a-9407-12a6f349abc9"
      },
      "execution_count": 37,
      "outputs": [
        {
          "output_type": "stream",
          "name": "stderr",
          "text": [
            "/usr/local/lib/python3.10/dist-packages/transformers/optimization.py:411: FutureWarning: This implementation of AdamW is deprecated and will be removed in a future version. Use the PyTorch implementation torch.optim.AdamW instead, or set `no_deprecation_warning=True` to disable this warning\n",
            "  warnings.warn(\n"
          ]
        }
      ]
    },
    {
      "cell_type": "code",
      "source": [
        "import matplotlib.pyplot as plt\n",
        "\n",
        "epochs = 30\n",
        "best_val_loss = float('inf')\n",
        "patience = 0  # 改善が見られないエポック数を追跡\n",
        "patience_limit = 3  # 早期停止のためのエポック数の限界\n",
        "\n",
        "# エポックごとのトレーニングとバリデーション損失を保存するリスト\n",
        "epoch_train_losses = []\n",
        "epoch_val_losses = []\n",
        "\n",
        "for epoch in range(epochs):\n",
        "    # トレーニングフェーズ\n",
        "    model.train()\n",
        "    batch_train_losses = []  # バッチごとのトレーニング損失を格納するリスト\n",
        "    for batch in train_dataloader:\n",
        "        # トレーニングバッチの処理...\n",
        "        batch_train_losses.append(loss.item())\n",
        "\n",
        "    # バリデーションフェーズ\n",
        "    model.eval()\n",
        "    batch_val_losses = []  # バッチごとのバリデーション損失を格納するリスト\n",
        "    for batch in val_dataloader:\n",
        "        # バリデーションバッチの処理...\n",
        "        batch_val_losses.append(loss.item())\n",
        "\n",
        "    # 平均損失の計算\n",
        "    avg_train_loss = sum(batch_train_losses) / len(batch_train_losses)\n",
        "    avg_val_loss = sum(batch_val_losses) / len(batch_val_losses)\n",
        "\n",
        "    # エポックごとの損失のリストに追加\n",
        "    epoch_train_losses.append(avg_train_loss)\n",
        "    epoch_val_losses.append(avg_val_loss)\n",
        "\n",
        "    # 早期停止条件のチェック\n",
        "    if avg_val_loss < best_val_loss:\n",
        "        best_val_loss = avg_val_loss\n",
        "        patience = 0\n",
        "    else:\n",
        "        patience += 1\n",
        "\n",
        "    if patience >= patience_limit:\n",
        "        print(\"Early stopping triggered.\")\n",
        "        break\n",
        "\n",
        "    print(f\"Epoch {epoch+1}/{epochs} | Train Loss: {avg_train_loss:.4f} | Val Loss: {avg_val_loss:.4f}\")\n",
        "\n",
        "# トレーニング完了後にグラフをプロット\n",
        "epochs_range = range(1, epoch+2)  # early stoppingによりepochが途中で止まった場合に対応\n",
        "plt.figure(figsize=(10, 6))\n",
        "plt.plot(epochs_range, epoch_train_losses, label='Training Loss')\n",
        "plt.plot(epochs_range, epoch_val_losses, label='Validation Loss')\n",
        "plt.title('Training and Validation Loss')\n",
        "plt.xlabel('Epochs')\n",
        "plt.ylabel('Loss')\n",
        "plt.legend()\n",
        "plt.show()\n"
      ],
      "metadata": {
        "colab": {
          "base_uri": "https://localhost:8080/",
          "height": 635
        },
        "id": "-1Wt0mVJOuaj",
        "outputId": "f4a3d60b-b7d6-45ec-b42c-60945f62cda8"
      },
      "execution_count": 38,
      "outputs": [
        {
          "output_type": "stream",
          "name": "stdout",
          "text": [
            "Epoch 1/30 | Train Loss: 0.0797 | Val Loss: 0.0797\n",
            "Epoch 2/30 | Train Loss: 0.0797 | Val Loss: 0.0797\n",
            "Epoch 3/30 | Train Loss: 0.0797 | Val Loss: 0.0797\n",
            "Early stopping triggered.\n"
          ]
        },
        {
          "output_type": "display_data",
          "data": {
            "text/plain": [
              "<Figure size 1000x600 with 1 Axes>"
            ],
            "image/png": "[encoded data removed]"
          },
          "metadata": {}
        }
      ]
    },
    {
      "cell_type": "code",
      "source": [
        "# tokenizerにパッドトークンを設定\n",
        "tokenizer.pad_token = tokenizer.eos_token\n",
        "\n",
        "# テキストのエンコード\n",
        "input_text = \"What is the Earth like?\"\n",
        "inputs = tokenizer(input_text, return_tensors=\"pt\", padding=True, truncation=True)\n",
        "\n",
        "# 入力テンソルをモデルと同じデバイスに移動\n",
        "inputs = {k: v.to(device) for k, v in inputs.items()}\n",
        "\n",
        "# テキスト生成の実行\n",
        "output = model.generate(\n",
        "    **inputs,\n",
        "    max_length=100,\n",
        "    temperature=0.7,\n",
        "    top_k=50,\n",
        "    top_p=0.9,\n",
        "    no_repeat_ngram_size=2,\n",
        "    num_return_sequences=1\n",
        ")\n",
        "\n",
        "# 出力のデコード\n",
        "decoded_output = tokenizer.decode(output[0], skip_special_tokens=True)\n",
        "print(decoded_output)\n"
      ],
      "metadata": {
        "colab": {
          "base_uri": "https://localhost:8080/"
        },
        "id": "S6KNbiAFSQqq",
        "outputId": "e4426d52-4dc0-42eb-cc64-2850316cb859"
      },
      "execution_count": 47,
      "outputs": [
        {
          "output_type": "stream",
          "name": "stderr",
          "text": [
            "Setting `pad_token_id` to `eos_token_id`:50256 for open-end generation.\n"
          ]
        },
        {
          "output_type": "stream",
          "name": "stdout",
          "text": [
            "What is the Earth like?\n",
            "\n",
            "The Earth is a flat, spherical, and elliptical planet. It is about 1.5 billion miles (2.6 billion kilometers) in diameter. The Earth's surface is composed of a dense, dense material called the mantle.\n",
            ". Earth has a diameter of about 2.4 billion km (1.3 billion mi). The mantle is made up of three layers, each of which contains a layer of water. Water is heated by the sun,\n"
          ]
        }
      ]
    }
  ]
}